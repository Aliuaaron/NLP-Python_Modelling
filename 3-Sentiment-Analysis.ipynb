{
 "cells": [
  {
   "cell_type": "markdown",
   "metadata": {},
   "source": [
    "# Sentiment Analysis"
   ]
  },
  {
   "cell_type": "markdown",
   "metadata": {},
   "source": [
    "## Introduction"
   ]
  },
  {
   "cell_type": "markdown",
   "metadata": {},
   "source": [
    "So far, all of the analysis we've done has been pretty generic - looking at counts, creating scatter plots, etc. These techniques could be applied to numeric data as well.\n",
    "\n",
    "When it comes to text data, there are a few popular techniques that we'll be going through in the next few notebooks, starting with sentiment analysis. A few key points to remember with sentiment analysis.\n",
    "\n",
    "1. **TextBlob Module:** Linguistic researchers have labeled the sentiment of words based on their domain expertise. Sentiment of words can vary based on where it is in a sentence. The TextBlob module allows us to take advantage of these labels.\n",
    "2. **Sentiment Labels:** Each word in a corpus is labeled in terms of polarity and subjectivity (there are more labels as well, but we're going to ignore them for now). A corpus' sentiment is the average of these.\n",
    "   * **Polarity**: How positive or negative a word is. -1 is very negative. +1 is very positive.\n",
    "   * **Subjectivity**: How subjective, or opinionated a word is. 0 is fact. +1 is very much an opinion.\n",
    "\n",
    "For more info on how TextBlob coded up its [sentiment function](https://planspace.org/20150607-textblob_sentiment/).\n",
    "\n",
    "Let's take a look at the sentiment of the various transcripts, both overall and throughout the comedy routine."
   ]
  },
  {
   "cell_type": "markdown",
   "metadata": {},
   "source": [
    "## Sentiment of Routine"
   ]
  },
  {
   "cell_type": "code",
   "execution_count": 5,
   "metadata": {},
   "outputs": [
    {
     "output_type": "execute_result",
     "data": {
      "text/plain": [
       "                                                transcript         full_name\n",
       "ali      Ladies and gentlemen, please welcome to the st...          Ali Wong\n",
       "anthony  Thank you. Thank you. Thank you, San Francisco...  Anthony Jeselnik\n",
       "bill     [cheers and applause] All right, thank you! Th...         Bill Burr\n",
       "bo       Bo What? Old MacDonald had a farm E I E I O An...        Bo Burnham\n",
       "dave     This is Dave. He tells dirty jokes for a livin...    Dave Chappelle\n",
       "hasan    [theme music: orchestral hip-hop] [crowd roars...      Hasan Minhaj\n",
       "jim      [Car horn honks] [Audience cheering] [Announce...     Jim Jefferies\n",
       "joe      [rock music playing] [audience cheering] [anno...         Joe Rogan\n",
       "john     All right, Petunia. Wish me luck out there. Yo...      John Mulaney\n",
       "louis    Intro\\nFade the music out. Let’s roll. Hold th...        Louis C.K.\n",
       "mike     Wow. Hey, thank you. Thanks. Thank you, guys. ...    Mike Birbiglia\n",
       "ricky    Hello. Hello! How you doing? Great. Thank you....     Ricky Gervais"
      ],
      "text/html": "<div>\n<style scoped>\n    .dataframe tbody tr th:only-of-type {\n        vertical-align: middle;\n    }\n\n    .dataframe tbody tr th {\n        vertical-align: top;\n    }\n\n    .dataframe thead th {\n        text-align: right;\n    }\n</style>\n<table border=\"1\" class=\"dataframe\">\n  <thead>\n    <tr style=\"text-align: right;\">\n      <th></th>\n      <th>transcript</th>\n      <th>full_name</th>\n    </tr>\n  </thead>\n  <tbody>\n    <tr>\n      <th>ali</th>\n      <td>Ladies and gentlemen, please welcome to the st...</td>\n      <td>Ali Wong</td>\n    </tr>\n    <tr>\n      <th>anthony</th>\n      <td>Thank you. Thank you. Thank you, San Francisco...</td>\n      <td>Anthony Jeselnik</td>\n    </tr>\n    <tr>\n      <th>bill</th>\n      <td>[cheers and applause] All right, thank you! Th...</td>\n      <td>Bill Burr</td>\n    </tr>\n    <tr>\n      <th>bo</th>\n      <td>Bo What? Old MacDonald had a farm E I E I O An...</td>\n      <td>Bo Burnham</td>\n    </tr>\n    <tr>\n      <th>dave</th>\n      <td>This is Dave. He tells dirty jokes for a livin...</td>\n      <td>Dave Chappelle</td>\n    </tr>\n    <tr>\n      <th>hasan</th>\n      <td>[theme music: orchestral hip-hop] [crowd roars...</td>\n      <td>Hasan Minhaj</td>\n    </tr>\n    <tr>\n      <th>jim</th>\n      <td>[Car horn honks] [Audience cheering] [Announce...</td>\n      <td>Jim Jefferies</td>\n    </tr>\n    <tr>\n      <th>joe</th>\n      <td>[rock music playing] [audience cheering] [anno...</td>\n      <td>Joe Rogan</td>\n    </tr>\n    <tr>\n      <th>john</th>\n      <td>All right, Petunia. Wish me luck out there. Yo...</td>\n      <td>John Mulaney</td>\n    </tr>\n    <tr>\n      <th>louis</th>\n      <td>Intro\\nFade the music out. Let’s roll. Hold th...</td>\n      <td>Louis C.K.</td>\n    </tr>\n    <tr>\n      <th>mike</th>\n      <td>Wow. Hey, thank you. Thanks. Thank you, guys. ...</td>\n      <td>Mike Birbiglia</td>\n    </tr>\n    <tr>\n      <th>ricky</th>\n      <td>Hello. Hello! How you doing? Great. Thank you....</td>\n      <td>Ricky Gervais</td>\n    </tr>\n  </tbody>\n</table>\n</div>"
     },
     "metadata": {},
     "execution_count": 5
    }
   ],
   "source": [
    "# We'll start by reading in the corpus, which preserves word order\n",
    "import pandas as pd\n",
    "import pickle\n",
    "data = pd.read_pickle('/Users/GDPC/Downloads/nlp-in-python-tutorial-master/pickle/corpus.pkl')\n",
    "data"
   ]
  },
  {
   "cell_type": "code",
   "execution_count": 17,
   "metadata": {},
   "outputs": [
    {
     "output_type": "error",
     "ename": "ModuleNotFoundError",
     "evalue": "No module named 'textblob'",
     "traceback": [
      "\u001b[0;31m---------------------------------------------------------------------------\u001b[0m",
      "\u001b[0;31mModuleNotFoundError\u001b[0m                       Traceback (most recent call last)",
      "\u001b[0;32m<ipython-input-17-ccb3845b7272>\u001b[0m in \u001b[0;36m<module>\u001b[0;34m\u001b[0m\n\u001b[1;32m      1\u001b[0m \u001b[0;31m# Create quick lambda functions to find the polarity and subjectivity of each routine\u001b[0m\u001b[0;34m\u001b[0m\u001b[0;34m\u001b[0m\u001b[0;34m\u001b[0m\u001b[0m\n\u001b[1;32m      2\u001b[0m \u001b[0;31m# Terminal / Anaconda Navigator: conda install -c conda-forge textblob\u001b[0m\u001b[0;34m\u001b[0m\u001b[0;34m\u001b[0m\u001b[0;34m\u001b[0m\u001b[0m\n\u001b[0;32m----> 3\u001b[0;31m \u001b[0;32mimport\u001b[0m \u001b[0mtextblob\u001b[0m            \u001b[0;31m#to import\u001b[0m\u001b[0;34m\u001b[0m\u001b[0;34m\u001b[0m\u001b[0m\n\u001b[0m\u001b[1;32m      4\u001b[0m \u001b[0;32mfrom\u001b[0m \u001b[0mtextblob\u001b[0m \u001b[0;32mimport\u001b[0m \u001b[0mTextBlob\u001b[0m\u001b[0;34m\u001b[0m\u001b[0;34m\u001b[0m\u001b[0m\n\u001b[1;32m      5\u001b[0m \u001b[0mpol\u001b[0m \u001b[0;34m=\u001b[0m \u001b[0;32mlambda\u001b[0m \u001b[0mx\u001b[0m\u001b[0;34m:\u001b[0m \u001b[0mTextBlob\u001b[0m\u001b[0;34m(\u001b[0m\u001b[0mx\u001b[0m\u001b[0;34m)\u001b[0m\u001b[0;34m.\u001b[0m\u001b[0msentiment\u001b[0m\u001b[0;34m.\u001b[0m\u001b[0mpolarity\u001b[0m\u001b[0;34m\u001b[0m\u001b[0;34m\u001b[0m\u001b[0m\n",
      "\u001b[0;31mModuleNotFoundError\u001b[0m: No module named 'textblob'"
     ]
    }
   ],
   "source": [
    "# Create quick lambda functions to find the polarity and subjectivity of each routine\n",
    "# Terminal / Anaconda Navigator: conda install -c conda-forge textblob\n",
    "import textblob            #to import\n",
    "from textblob import TextBlob\n",
    "pol = lambda x: TextBlob(x).sentiment.polarity\n",
    "sub = lambda x: TextBlob(x).sentiment.subjectivity\n",
    "\n",
    "data['polarity'] = data['transcript'].apply(pol)\n",
    "data['subjectivity'] = data['transcript'].apply(sub)\n",
    "data"
   ]
  },
  {
   "cell_type": "code",
   "execution_count": 18,
   "metadata": {},
   "outputs": [
    {
     "output_type": "error",
     "ename": "AttributeError",
     "evalue": "'DataFrame' object has no attribute 'polarity'",
     "traceback": [
      "\u001b[0;31m---------------------------------------------------------------------------\u001b[0m",
      "\u001b[0;31mAttributeError\u001b[0m                            Traceback (most recent call last)",
      "\u001b[0;32m<ipython-input-18-650a202fad2e>\u001b[0m in \u001b[0;36m<module>\u001b[0;34m\u001b[0m\n\u001b[1;32m      5\u001b[0m \u001b[0;34m\u001b[0m\u001b[0m\n\u001b[1;32m      6\u001b[0m \u001b[0;32mfor\u001b[0m \u001b[0mindex\u001b[0m\u001b[0;34m,\u001b[0m \u001b[0mcomedian\u001b[0m \u001b[0;32min\u001b[0m \u001b[0menumerate\u001b[0m\u001b[0;34m(\u001b[0m\u001b[0mdata\u001b[0m\u001b[0;34m.\u001b[0m\u001b[0mindex\u001b[0m\u001b[0;34m)\u001b[0m\u001b[0;34m:\u001b[0m\u001b[0;34m\u001b[0m\u001b[0;34m\u001b[0m\u001b[0m\n\u001b[0;32m----> 7\u001b[0;31m     \u001b[0mx\u001b[0m \u001b[0;34m=\u001b[0m \u001b[0mdata\u001b[0m\u001b[0;34m.\u001b[0m\u001b[0mpolarity\u001b[0m\u001b[0;34m.\u001b[0m\u001b[0mloc\u001b[0m\u001b[0;34m[\u001b[0m\u001b[0mcomedian\u001b[0m\u001b[0;34m]\u001b[0m\u001b[0;34m\u001b[0m\u001b[0;34m\u001b[0m\u001b[0m\n\u001b[0m\u001b[1;32m      8\u001b[0m     \u001b[0my\u001b[0m \u001b[0;34m=\u001b[0m \u001b[0mdata\u001b[0m\u001b[0;34m.\u001b[0m\u001b[0msubjectivity\u001b[0m\u001b[0;34m.\u001b[0m\u001b[0mloc\u001b[0m\u001b[0;34m[\u001b[0m\u001b[0mcomedian\u001b[0m\u001b[0;34m]\u001b[0m\u001b[0;34m\u001b[0m\u001b[0;34m\u001b[0m\u001b[0m\n\u001b[1;32m      9\u001b[0m     \u001b[0mplt\u001b[0m\u001b[0;34m.\u001b[0m\u001b[0mscatter\u001b[0m\u001b[0;34m(\u001b[0m\u001b[0mx\u001b[0m\u001b[0;34m,\u001b[0m \u001b[0my\u001b[0m\u001b[0;34m,\u001b[0m \u001b[0mcolor\u001b[0m\u001b[0;34m=\u001b[0m\u001b[0;34m'blue'\u001b[0m\u001b[0;34m)\u001b[0m\u001b[0;34m\u001b[0m\u001b[0;34m\u001b[0m\u001b[0m\n",
      "\u001b[0;32m/Library/Frameworks/Python.framework/Versions/3.8/lib/python3.8/site-packages/pandas/core/generic.py\u001b[0m in \u001b[0;36m__getattr__\u001b[0;34m(self, name)\u001b[0m\n\u001b[1;32m   5485\u001b[0m         ):\n\u001b[1;32m   5486\u001b[0m             \u001b[0;32mreturn\u001b[0m \u001b[0mself\u001b[0m\u001b[0;34m[\u001b[0m\u001b[0mname\u001b[0m\u001b[0;34m]\u001b[0m\u001b[0;34m\u001b[0m\u001b[0;34m\u001b[0m\u001b[0m\n\u001b[0;32m-> 5487\u001b[0;31m         \u001b[0;32mreturn\u001b[0m \u001b[0mobject\u001b[0m\u001b[0;34m.\u001b[0m\u001b[0m__getattribute__\u001b[0m\u001b[0;34m(\u001b[0m\u001b[0mself\u001b[0m\u001b[0;34m,\u001b[0m \u001b[0mname\u001b[0m\u001b[0;34m)\u001b[0m\u001b[0;34m\u001b[0m\u001b[0;34m\u001b[0m\u001b[0m\n\u001b[0m\u001b[1;32m   5488\u001b[0m \u001b[0;34m\u001b[0m\u001b[0m\n\u001b[1;32m   5489\u001b[0m     \u001b[0;32mdef\u001b[0m \u001b[0m__setattr__\u001b[0m\u001b[0;34m(\u001b[0m\u001b[0mself\u001b[0m\u001b[0;34m,\u001b[0m \u001b[0mname\u001b[0m\u001b[0;34m:\u001b[0m \u001b[0mstr\u001b[0m\u001b[0;34m,\u001b[0m \u001b[0mvalue\u001b[0m\u001b[0;34m)\u001b[0m \u001b[0;34m->\u001b[0m \u001b[0;32mNone\u001b[0m\u001b[0;34m:\u001b[0m\u001b[0;34m\u001b[0m\u001b[0;34m\u001b[0m\u001b[0m\n",
      "\u001b[0;31mAttributeError\u001b[0m: 'DataFrame' object has no attribute 'polarity'"
     ]
    }
   ],
   "source": [
    "# Let's plot the results\n",
    "import matplotlib.pyplot as plt\n",
    "\n",
    "plt.rcParams['figure.figsize'] = [10, 8]\n",
    "\n",
    "for index, comedian in enumerate(data.index):\n",
    "    x = data.polarity.loc[comedian]\n",
    "    y = data.subjectivity.loc[comedian]\n",
    "    plt.scatter(x, y, color='blue')\n",
    "    plt.text(x+.001, y+.001, data['full_name'][index], fontsize=10)\n",
    "    plt.xlim(-.01, .12) \n",
    "    \n",
    "plt.title('Sentiment Analysis', fontsize=20)\n",
    "plt.xlabel('<-- Negative -------- Positive -->', fontsize=15)\n",
    "plt.ylabel('<-- Facts -------- Opinions -->', fontsize=15)\n",
    "\n",
    "plt.show()"
   ]
  },
  {
   "cell_type": "markdown",
   "metadata": {},
   "source": [
    "## Sentiment of Routine Over Time"
   ]
  },
  {
   "cell_type": "markdown",
   "metadata": {},
   "source": [
    "Instead of looking at the overall sentiment, let's see if there's anything interesting about the sentiment over time throughout each routine."
   ]
  },
  {
   "cell_type": "code",
   "execution_count": 19,
   "metadata": {
    "collapsed": true
   },
   "outputs": [],
   "source": [
    "# Split each routine into 10 parts\n",
    "import numpy as np\n",
    "import math\n",
    "\n",
    "def split_text(text, n=10):\n",
    "    '''Takes in a string of text and splits into n equal parts, with a default of 10 equal parts.'''\n",
    "\n",
    "    # Calculate length of text, the size of each chunk of text and the starting points of each chunk of text\n",
    "    length = len(text)\n",
    "    size = math.floor(length / n)\n",
    "    start = np.arange(0, length, size)\n",
    "    \n",
    "    # Pull out equally sized pieces of text and put it into a list\n",
    "    split_list = []\n",
    "    for piece in range(n):\n",
    "        split_list.append(text[start[piece]:start[piece]+size])\n",
    "    return split_list"
   ]
  },
  {
   "cell_type": "code",
   "execution_count": 20,
   "metadata": {},
   "outputs": [
    {
     "output_type": "execute_result",
     "data": {
      "text/plain": [
       "                                                transcript         full_name\n",
       "ali      Ladies and gentlemen, please welcome to the st...          Ali Wong\n",
       "anthony  Thank you. Thank you. Thank you, San Francisco...  Anthony Jeselnik\n",
       "bill     [cheers and applause] All right, thank you! Th...         Bill Burr\n",
       "bo       Bo What? Old MacDonald had a farm E I E I O An...        Bo Burnham\n",
       "dave     This is Dave. He tells dirty jokes for a livin...    Dave Chappelle\n",
       "hasan    [theme music: orchestral hip-hop] [crowd roars...      Hasan Minhaj\n",
       "jim      [Car horn honks] [Audience cheering] [Announce...     Jim Jefferies\n",
       "joe      [rock music playing] [audience cheering] [anno...         Joe Rogan\n",
       "john     All right, Petunia. Wish me luck out there. Yo...      John Mulaney\n",
       "louis    Intro\\nFade the music out. Let’s roll. Hold th...        Louis C.K.\n",
       "mike     Wow. Hey, thank you. Thanks. Thank you, guys. ...    Mike Birbiglia\n",
       "ricky    Hello. Hello! How you doing? Great. Thank you....     Ricky Gervais"
      ],
      "text/html": "<div>\n<style scoped>\n    .dataframe tbody tr th:only-of-type {\n        vertical-align: middle;\n    }\n\n    .dataframe tbody tr th {\n        vertical-align: top;\n    }\n\n    .dataframe thead th {\n        text-align: right;\n    }\n</style>\n<table border=\"1\" class=\"dataframe\">\n  <thead>\n    <tr style=\"text-align: right;\">\n      <th></th>\n      <th>transcript</th>\n      <th>full_name</th>\n    </tr>\n  </thead>\n  <tbody>\n    <tr>\n      <th>ali</th>\n      <td>Ladies and gentlemen, please welcome to the st...</td>\n      <td>Ali Wong</td>\n    </tr>\n    <tr>\n      <th>anthony</th>\n      <td>Thank you. Thank you. Thank you, San Francisco...</td>\n      <td>Anthony Jeselnik</td>\n    </tr>\n    <tr>\n      <th>bill</th>\n      <td>[cheers and applause] All right, thank you! Th...</td>\n      <td>Bill Burr</td>\n    </tr>\n    <tr>\n      <th>bo</th>\n      <td>Bo What? Old MacDonald had a farm E I E I O An...</td>\n      <td>Bo Burnham</td>\n    </tr>\n    <tr>\n      <th>dave</th>\n      <td>This is Dave. He tells dirty jokes for a livin...</td>\n      <td>Dave Chappelle</td>\n    </tr>\n    <tr>\n      <th>hasan</th>\n      <td>[theme music: orchestral hip-hop] [crowd roars...</td>\n      <td>Hasan Minhaj</td>\n    </tr>\n    <tr>\n      <th>jim</th>\n      <td>[Car horn honks] [Audience cheering] [Announce...</td>\n      <td>Jim Jefferies</td>\n    </tr>\n    <tr>\n      <th>joe</th>\n      <td>[rock music playing] [audience cheering] [anno...</td>\n      <td>Joe Rogan</td>\n    </tr>\n    <tr>\n      <th>john</th>\n      <td>All right, Petunia. Wish me luck out there. Yo...</td>\n      <td>John Mulaney</td>\n    </tr>\n    <tr>\n      <th>louis</th>\n      <td>Intro\\nFade the music out. Let’s roll. Hold th...</td>\n      <td>Louis C.K.</td>\n    </tr>\n    <tr>\n      <th>mike</th>\n      <td>Wow. Hey, thank you. Thanks. Thank you, guys. ...</td>\n      <td>Mike Birbiglia</td>\n    </tr>\n    <tr>\n      <th>ricky</th>\n      <td>Hello. Hello! How you doing? Great. Thank you....</td>\n      <td>Ricky Gervais</td>\n    </tr>\n  </tbody>\n</table>\n</div>"
     },
     "metadata": {},
     "execution_count": 20
    }
   ],
   "source": [
    "# Let's take a look at our data again\n",
    "data"
   ]
  },
  {
   "cell_type": "code",
   "execution_count": 21,
   "metadata": {},
   "outputs": [
    {
     "output_type": "execute_result",
     "data": {
      "text/plain": [
       "ead. Big bath. Big sunken bath. South-facing windows. I was in there the first night. Lovely bath. Sun streaming in, classical music, this is the life. I looked down. And they’re floating. Right? Now, I’d never dreamt that testicles would float. They seem like they’d be heavy. You could tie things down with them, and they’d sink. You know? Most people never see their… In the sea, you’re in trunks, in the shower, they dangle, and baths aren’t usually that deep! That was my first thought. “Oh, my god, I never thought testicles would float.” Then my second thought kicked in. “Hold on, this bath’s two feet deep!” Right? I’m sitting on the bottom, they’re on top. What’s going on? Right? And… I looked, and my testicles are now longer than my penis. Easily, by some way, right? In fact, they’d created, a little, fleshy sort of life raft, right? My penis was dry, just nestled, just… floating on top. Like that. Like that. Just bouncing around. I should have given it a little whistle. I’m just thinking, “This is bizarre.” Fucking hell, right? And… I thought, “Maybe it’s a fluke.” So I held them under the water for a minute, I let them go and they bobbed up! They’re really… They’re really buoyant, right? Try it when you get home, if you’re in your 50s. And a man, obviously. Or Caitlyn Jenner. But… But the world is getting worse. And I blame the beginning of its demise on social media. Because Twitter and Facebook, that’s where this ridiculous notion bred, and became stable, that it was more important to be popular than right. Everything was “like me”, “agree with me”. It falls into two tribes. “I don’t agree with them, so I block them.” And now, in this post-truth era, people don’t care about the argument, they say, “Who’s saying the argument? No, they’re not on our side.” It’s ludicrous, okay? And it also bred this ridiculous notion we’ve always had. My opinion is worth as much as yours. Now, it’s my opinion is worth as much as your fact, which is nonsense. I get tweets from people saying, “I believe the Earth is 6,000 years old.” “I believe you’re a fucking idiot.” You can’t have an opinion on the age of the Earth. You can have opinions, but not your own facts. But it was all about being popular, right? And even politicians picked up those symptoms. Politicians tweet now, they want to be popular. We had a Brexit referendum cause they passed the buck. They didn’t want to make a mistake. And there’s a ridiculous thing of, “Let’s ask the average person what they think.” Let’s stop asking the average person what they… Do you know how fucking stupid the average person is? We still sell bottles of bleach with big labels on that say “Do not drink”. Right? Let’s take those labels off, right? For two years. And then have a referendum. But it’s not just politicians. Even real news. The news on TV says things li',\n",
       "  'ke, “Tweet us your news.” Don’t let them tweet you the news! -“I saw a Tyrannosaurus rex.” -You liar! Right? There was a big news story last year, about a train crash that happened a year before, and there was an inquiry. The results of the inquiry were published and there was an expert on the news. He said, “We’ve looked at everything, and we’ve decided that the speed of the trains was a contributing factor, so we’re going to slow them down a bit. Statistically, this shouldn’t happen again.” That would have been it. But the guy went, “We asked the public what they thought.” Then there was three banal vox pops. First one said, “I already pay £960 a year, so I’m not happy.” The next one said, “It takes me 45 minutes each way, it’s not good enough.” The last one said, “I say it’s better to arrive at work late than dead.” Why is that on the news? And when is that applicable in any situation? All right, Ted? You’re in early. Ted? Oh, Ted! We’ve been through this. Remember I said I’d rather you arrive late than dead? But… the big enemy is stupidity… right? I wanna share with you the most stupid tweet I ever got. Now, admittedly, when I first got on Twitter, I pushed my agenda. I was an outspoken atheist. Not to change anyone’s opinions. I thought it was important to tell the other side. There are still 13 countries where people are put to death for being an atheist. I just wanted to say, “It’s fine to be an atheist. It’s fine to believe in God, and it’s fine not to.” That’s all I was saying. I realized I didn’t have to tweet about religion or atheism. I could tweet a fact, and that annoyed just the right people. I’d tweet things like “Happy birthday, Earth. Four point six billion years old today.” Someone would always go, “We know what you’re fucking doing.” This is a tweet I got\\xa0after one of those. And… it was all in capitals, which excited me… That’s the sign of Twitter madness. Mixed with anger. It’s great, right? I looked at his profile. Sure enough, he’s a gentleman from Texas. He’s a fundamentalist, creationist Christian. Which is fine! He loves God. He loves God and… fetuses, mainly. He loves the fetus from conception to when it turns out gay, and then he’s… Remember it’s in capitals. He’s shouting at me. Best tweet ever. “YOUR SCIENCE–” My science, right? Science, by the way, is spelled S-C-I-E-N-T-S. Already good, isn’t it? I mean… He’s obviously heard the word, he took a guess… Never seen it written down, because it’s not in the Bible. So he’s… “YOUR SCIENTS WON’T HELP YOU… Well, it will. It’s helping him… beam this little message up to a satellite and down to me. “YOUR SCIENTS WON’T HELP YOU WHEN SATAN…” Of course he believes in Satan. Why not? He believes that God made the universe in six days. You’re not gonna say to him, “Do you believe in Satan?” And have him say, “Bit far-fetched.” Why doesn’t God kill Satan? That’s… what I’d ask him. If I was wrong and I met God, I’d go, “Oh, you do exist.” He’d go, “Yeah.” I’d go, “I’ve got a few fucking questions, mate. The first one would be, “Why did you make chocolate kill dogs?” Mental, right? Also, if you hate homosexuality so much, why did you put the male G-spot up the arse? What… What is wrong with you? Then I’d say, “Why don’t you kill Satan?” And he’d go, “What?” I’d go, “Why don’t you kill Satan? If he does all the bad stuff and you do\\xa0all the good stuff, which you want… I mean, you do want–” “Yes, yeah.” “You could kill him if you wanted, you can do anything, easy.” “Yeah.” “Why don’t you kill him, then?” “Because… Shut up.” “YOUR SCIENTS WON’T HELP YOU WHEN SATAN IS RAPING YOUR BRITISH ASS.” And he’s got a point. Because if I die, and I find myself in Hell, being raped by Satan… Science has pretty much let me down. But it’s this last line that he just throws away. The line he signs off with, makes this the best tweet I’ve ever received. “YOUR SCIENTS WON’T HELP YOU WHEN SATAN IS RAPING YOUR BRITISH ASS. I’LL BE LAUGHING.” So… he’s there too! He’s… So, he’s a fundamentalist… Christian, who’s lived his life by the Old and New Testaments. He dies, he wakes up in Hell, right? Which must be off the charts on the scale of emotional trauma… “Oh, my God, I’m in Hell! Oh, my God, why have you forsaken me? I’m gonna be tortured for eternity!” He sees me getting raped and goes, “Ha, ha, ha!” He’s suddenly over it, is he? His day’s suddenly got a little bit brighter. And like he’s not next, right? So I’m getting raped, right, by the Devil, right? He’s just there. “You fucking atheist scum.” And I’m like that. “Yeah, whatever.” I assume it happens all eternity. “Yeah, yeah, whatever.” Like that. I might say, “Watch your hooves on my testicles.” And he’d go, “Why are they so distended?” And I go, “Oh, like you’re Brad Pitt!” You know what I mean? Sorry, are we talking or raping? Can we… “You lying, fucking atheist.” He’s probably bored. “Fucking atheists. Every fucking day.” Right? His little gargoyle comes up. “Satan?” He goes, “What?” And I go, “Yeah? What?” He goes, “There’s a fundamentalist Christian.” “Fuck this!” He’d be on him like a ton of bricks! So… I got that tweet. I loved it. All I did was re-tweet, right? And just watch the fun, people piling on, going, “Ah, loser!” And he’s fighting back, really witlessly, saying things like, “Go fuck your sister, you English faggot!” That makes no sense at all. I forgot about it. Went and did something else. Few hours later, on Twitter again. It’s still all going off, right? It’s really funny, I’m laughing at all the replies. People saying things to him. I’m scrolling down. There’s one tweet, directly to me, from this woman. She says, “You find rape funny?” No! No! What? No… “Your mates find rape ',\n",
       "  'funny?” No! Listen, right? “You find rape funny?” Listen, everyone! Listen, right? No… I said to her, “I didn’t tweet that.” -She went, “You retweeted it.” -To show he’s an idiot. “But you must find it funny or amusing. It’s not a frivolous thing.” I said, “No, well, it’s up to him, isn’t it? He can do it.” Now I’m arguing with quite a nice, sane person, who thinks this is mental. But I’m fighting for his right… to fantasize about me being raped by the Devil. Because I’m so conscious of “freedom of speech”… What a topsy-turvy world, right? Although her opening gambit annoyed me a bit. Because she did that thing that people do. She didn’t say, “What, you find jokes about rape funny?” She said, “What, you find rape funny?” The answer to that is, no, of course not. No one finds rape funny. Not even rapists find rape funny, know what I mean? Noone ever gives evidence saying, “It was dark, he wore a ski mask, and he was giggling.” That’s never… So… I sent back, “You mean jokes about rape?” She said, “Yes.” -I went, “Depends on the joke.” “-It fucking doesn’t!” I’m going, “No, it does! It does! It depends on the joke. It’s about context,\\xa0it’s about content. What do you mean by a rape joke?” She said, “Even a joke with the word ‘rape’ in it is unacceptable.” I said, “That’s ridiculous, it depends what the joke is.” I tweeted that clip of me in The Office, going, “I think there’s been a rape up there!” Everyone gets that because of the context. And the target is a middle-aged man, who’s so narcissistic, he’ll say anything to win a silly game. You have to understand the joke and where it comes from. I said,\\xa0“Some jokes don’t punch up or down. They don’t punch anywhere. They can just be a pun, a play\\xa0on words, that don’t really mean anything.” A joke went round when I was a kid, even adults told it. I’ll tell you. A woman goes running into a police station. She says, “Help, I’ve been graped!” The policeman says, “Do you mean raped?” She says, “No, there was a bunch of them.” That is a rape joke, right? So…. And I even said to her, “No, I agree, in most cases, yeah. Real rape jokes,\\xa0they are fucking horrible when the victim is the target. Disgusting! I’d never tell those. But it depends on the joke, not the word or the subject.” I calmed it down, and they agreed some jokes are worse than others. She ended it by saying, “Well, okay, I see your point, but… still… I will laugh at a joke with the word ‘rape’ in it, when no-one in the audience has been raped.” I should have left it. I just sent back, “What a weird door policy.” You turn up to a comedy gig, pay your money, someone says, “Can I just ask you a question?” Yeah. Have you ever been raped? I have, yes. You can’t come in. What? Why? A lady says she won’t laugh if you’re in. Off you go. That’s what the world is like. People take everything personally. They think the world revolves around them, particularly on Twitter. I’m not tweeting anyone, I’m just tweeting. I don’t know who’s following me. I’ve got 12 million followers. They can be following me without me knowing, choose to read my tweet, and then take that personally. That’s like going into a town square, seeing a big noticeboard saying “Guitar lessons”, and you go, “But I don’t fucking want guitar lessons!” What’s this? There’s a number here. Right, call that. Are you giving guitar lessons? I don’t fucking want any! Fine! It’s not for you, then. Just walk away. Don’t worry about it.\\nI should say one thing in Twitter’s defense. I use it as a marketing tool and for fun, like everyone else. But one great thing about Twitter, for me, personally, I’m very into anti animal cruelty. Years ago, it would take ages to get 100,000 signatures on a petition. Standing outside Tesco’s or something. That’s the magic number, because then it gets heard in Parliament. I’ve been part of many campaigns through Twitter when we’ve got 100,000 signatures in days, and the law has been changed. Thank you to those who’ve retweeted about animal cruelty. It makes a difference. Thank you. But even something as clear and distinct as animal cruelty, You think no one’s gonna argue with that. Yes, they will. They just wanna be heard. I’ll tweet something about a bull being tortured in a bullring for entertainment. I say, “Ban bullfighting.” Someone always says, “What about the kids in Syria?” What? Well, I’m not giving you a choice. You can do both. I’m not saying, “Throw that kid back in the hole, there’s a bull here!” And there’s one thing that I didn’t want in my head, but it exists, so we have to deal with it now that I found out, through Twitter. There’s a thing called the Yulin Dog Meat Festival, in China, every year. And it’s horrendous. And we send people with money to buy the dogs, to bring them back. It’s a drop in the ocean. They eat thousands over this weekend. I tweet the details, the petition, people don’t really read it. It’s a knee-jerk. People say, “Racist!” I go, “What?” They go, “We eat pigs and cows in the West.” Yep, we do. I don’t but, yeah, I used to. You’re right, a pig or a cow is worth as much as a dog. It’s not about the species. It’s what they do to these poor dogs. What they do is torture the dogs first. ‘Cause they think it makes the meat taste better. They beat them, they blowtorch them. They even skin them alive. And I saw this picture… on Twitter of the opening of this ceremony. These two guys, in this Chinese square, and they’re skinning this dog alive. It’s screaming, they’re laughing. It’s the worst thing I’ve ever seen. I thought, “I’ve got to tweet that.” I tweeted the picture, with a petition, and I just said, “One beautiful creature, and two ugly cunts, skinning it alive.” Right? And it t',\n",
       "  'ook off. Loads of retweets, it made the press. I got one tweet back, from a woman, that said, “Is that language necessary?” I should have left it, right? But I was… I was incensed! I said, “You’re more offended by a word than by an animal being tortured to death?” She said, “I just hate the C-word.” I definitely should have left it. I sent back, “People who hate the C-word would hear it a lot less, if they didn’t go round acting like such cunts.” Thank you! You’ve been fantastic! Good night! Cheers! Thank you so much! Thank you so much. I hope you enjoyed the show. I hope no-one was offended. No, I really do! That’s not the point. I’ve always wanted people to know they can laugh at bad things, without being bad people. I think it’s my upbringing. I grew up… in poverty, with nothing. But the point was to pay your way then have a laugh. That was the men. The women carried on working. It was my older brother, Bob, it was him who I first saw making these dark jokes, right in the bad situation, as things were happening. People were laughing. I realized, “He’s healing them.” That’s what comedy’s for, what humor’s for. It gets us over bad stuff. Right? Typical Bob story. He once spent an hour in the pound shop in Hayling Island, just asking the cashier how much everything was. Just to see if he could break this poor man’s will. Bob was the first person I saw answer back to authority. The first authority you come across are your parents. And he’d get in trouble. He got sent to bed. But I thought he’d won the argument. And he’d tease my mum. My mum was a typical working-class woman. As I say, we lived in a shitty area, right? And most of the houses looked like a bit of mud, and a stolen bike, and fence posts missing. She mended the fence, turfed the garden herself, painted the step. She thought, “If it looked\\xa0respectable, we’d be respectable.” It was about reputation, I guess. Bob would send her postcards that just read, “Is that pedophile postman still reading your mail?” And she’d take it, she’d go in, and she’d be horrified. She’d call Bob. “He saw it this time, you must stop doing that!” Even at her funeral… My mum died first, and my dad carried on for a year or so, just drinking beer, then he went. At Mum’s funeral, we had different duties. I did catering and flowers. Bob went to see the local vicar. That was a mistake, right? We’d never been to church, he didn’t know us, we didn’t know him. So, he said to Bob, “Tell me about your mum, so I can say a few words.” Bob saw that as an opportunity, right? So, Bob, with a straight face, said, “Well, she was a keen racist.” The vicar went, “I can’t say that.” Bob said, “Okay, put she liked gardening.” He was trying to get\\xa0the vicar to say something to make us laugh in church. He didn’t warn us. And he did get something by the vicar. So we’re called Ricky, Robert– Bob– Ricky, Robert, Marsha and Larry. Now, Larry is the oldest, in his seventies. Born in the war. I always thought he was the sensible one. First born, weight of the world on his shoulders. My mum said, when he was a teenager, he got a job and gave her the money to help out. He’s a stand-up guy, Larry. So, Bob… gives the vicar the wrong name. Didn’t warn us. We’re all in church. Start of the funeral, we’re all there. Packed out. The coffin comes down. Guided by the vicar. The vicar goes to his pulpit. All confident, with his little notes, right? And he goes… Eva leaves behind four loving children. Ricky. Robert. Marsha. And Barry. And… we snort like that, right? Bob’s going… Everyone realizes. We’re all laughing. We see Larry go… All right. And the church is like… Every time we thought of it, we’d see Larry go… Like that, right? Then we’d just start giggling, just fits of fucking giggles, right? Larry eventually started doing this. And the vicar’s thinking, “What have I said?” Right? He’d put in a few things the vicar didn’t know that set us off again. Things that were just lies, or slightly wrong. My nieces and nephews started crying. I’d come prepared with a pack of tissues. They’d take one and hand it on. Before the funeral, I’d taken the tissues out, written on them, folded them back and put them in. And each tissue said, “Snivelling fucking bitch.” And they’re sort of laughing. So it was like a madhouse, right? Everything the vicar said or did, we all\\xa0started fucking laughing! Right? And you could see the vicar was visibly shook a little bit. He ended the funeral, and he made a beeline for me and Bob. He said, “Sorry, was that okay?” Me and Bob went,\\xa0“Fucking brilliant,\\xa0mate. It was fucking brilliant.” That’s what I mean. We’re all\\xa0gonna die, so we should have a laugh. If you can laugh in the face of adversity, you’re bullet-proof. Me and my brother, Bob, had one simple rule, and that was if you think of something funny, you’ve got to say it. Win, lose or draw. It might go well… it might go badly. But you’ve gotta say it. And bear that in mind, as I leave you with this. Right… So… we’re all in the car one day. Bob’s driving. Packed in this car. A little day trip to the beach. We get stopped for a security check. And there’s a British bobby there. And he stops the car. Bob’s at the window. He said, “Where are we off to?” Bob went, “Bognor.” He went,\\xa0“Can you just pop the boot, please?” So he looks at that. Looks in the boot, like that. Back to Bob’s window. Gets that mirror on a stick thing. And he starts just looking under the car. And as he does that, his helmet falls off, right? And out of the helmet falls a packet of 20 cigarettes. And the copper went, “Bet you always wondered what we kept under our helmets.” And Bob went, “I knew it wasn’t fucking brains.” You’ve been amazing. Good ni']]"
      ]
     },
     "metadata": {},
     "execution_count": 21
    }
   ],
   "source": [
    "# Let's create a list to hold all of the pieces of text\n",
    "list_pieces = []\n",
    "for t in data.transcript:\n",
    "    split = split_text(t)\n",
    "    list_pieces.append(split)\n",
    "    \n",
    "list_pieces"
   ]
  },
  {
   "cell_type": "code",
   "execution_count": 22,
   "metadata": {},
   "outputs": [
    {
     "output_type": "execute_result",
     "data": {
      "text/plain": [
       "12"
      ]
     },
     "metadata": {},
     "execution_count": 22
    }
   ],
   "source": [
    "# The list has 10 elements, one for each transcript\n",
    "len(list_pieces)"
   ]
  },
  {
   "cell_type": "code",
   "execution_count": 23,
   "metadata": {},
   "outputs": [
    {
     "output_type": "execute_result",
     "data": {
      "text/plain": [
       "10"
      ]
     },
     "metadata": {},
     "execution_count": 23
    }
   ],
   "source": [
    "# Each transcript has been split into 10 pieces of text\n",
    "len(list_pieces[0])"
   ]
  },
  {
   "cell_type": "code",
   "execution_count": 24,
   "metadata": {},
   "outputs": [
    {
     "output_type": "error",
     "ename": "NameError",
     "evalue": "name 'TextBlob' is not defined",
     "traceback": [
      "\u001b[0;31m---------------------------------------------------------------------------\u001b[0m",
      "\u001b[0;31mNameError\u001b[0m                                 Traceback (most recent call last)",
      "\u001b[0;32m<ipython-input-24-e3747251fb05>\u001b[0m in \u001b[0;36m<module>\u001b[0;34m\u001b[0m\n\u001b[1;32m      5\u001b[0m     \u001b[0mpolarity_piece\u001b[0m \u001b[0;34m=\u001b[0m \u001b[0;34m[\u001b[0m\u001b[0;34m]\u001b[0m\u001b[0;34m\u001b[0m\u001b[0;34m\u001b[0m\u001b[0m\n\u001b[1;32m      6\u001b[0m     \u001b[0;32mfor\u001b[0m \u001b[0mp\u001b[0m \u001b[0;32min\u001b[0m \u001b[0mlp\u001b[0m\u001b[0;34m:\u001b[0m\u001b[0;34m\u001b[0m\u001b[0;34m\u001b[0m\u001b[0m\n\u001b[0;32m----> 7\u001b[0;31m         \u001b[0mpolarity_piece\u001b[0m\u001b[0;34m.\u001b[0m\u001b[0mappend\u001b[0m\u001b[0;34m(\u001b[0m\u001b[0mTextBlob\u001b[0m\u001b[0;34m(\u001b[0m\u001b[0mp\u001b[0m\u001b[0;34m)\u001b[0m\u001b[0;34m.\u001b[0m\u001b[0msentiment\u001b[0m\u001b[0;34m.\u001b[0m\u001b[0mpolarity\u001b[0m\u001b[0;34m)\u001b[0m\u001b[0;34m\u001b[0m\u001b[0;34m\u001b[0m\u001b[0m\n\u001b[0m\u001b[1;32m      8\u001b[0m     \u001b[0mpolarity_transcript\u001b[0m\u001b[0;34m.\u001b[0m\u001b[0mappend\u001b[0m\u001b[0;34m(\u001b[0m\u001b[0mpolarity_piece\u001b[0m\u001b[0;34m)\u001b[0m\u001b[0;34m\u001b[0m\u001b[0;34m\u001b[0m\u001b[0m\n\u001b[1;32m      9\u001b[0m \u001b[0;34m\u001b[0m\u001b[0m\n",
      "\u001b[0;31mNameError\u001b[0m: name 'TextBlob' is not defined"
     ]
    }
   ],
   "source": [
    "# Calculate the polarity for each piece of text\n",
    "\n",
    "polarity_transcript = []\n",
    "for lp in list_pieces:\n",
    "    polarity_piece = []\n",
    "    for p in lp:\n",
    "        polarity_piece.append(TextBlob(p).sentiment.polarity)\n",
    "    polarity_transcript.append(polarity_piece)\n",
    "    \n",
    "polarity_transcript"
   ]
  },
  {
   "cell_type": "code",
   "execution_count": 25,
   "metadata": {
    "collapsed": true
   },
   "outputs": [
    {
     "output_type": "error",
     "ename": "IndexError",
     "evalue": "list index out of range",
     "traceback": [
      "\u001b[0;31m---------------------------------------------------------------------------\u001b[0m",
      "\u001b[0;31mIndexError\u001b[0m                                Traceback (most recent call last)",
      "\u001b[0;32m<ipython-input-25-ff1ac3c98da1>\u001b[0m in \u001b[0;36m<module>\u001b[0;34m\u001b[0m\n\u001b[1;32m      1\u001b[0m \u001b[0;31m# Show the plot for one comedian\u001b[0m\u001b[0;34m\u001b[0m\u001b[0;34m\u001b[0m\u001b[0;34m\u001b[0m\u001b[0m\n\u001b[0;32m----> 2\u001b[0;31m \u001b[0mplt\u001b[0m\u001b[0;34m.\u001b[0m\u001b[0mplot\u001b[0m\u001b[0;34m(\u001b[0m\u001b[0mpolarity_transcript\u001b[0m\u001b[0;34m[\u001b[0m\u001b[0;36m0\u001b[0m\u001b[0;34m]\u001b[0m\u001b[0;34m)\u001b[0m\u001b[0;34m\u001b[0m\u001b[0;34m\u001b[0m\u001b[0m\n\u001b[0m\u001b[1;32m      3\u001b[0m \u001b[0mplt\u001b[0m\u001b[0;34m.\u001b[0m\u001b[0mtitle\u001b[0m\u001b[0;34m(\u001b[0m\u001b[0mdata\u001b[0m\u001b[0;34m[\u001b[0m\u001b[0;34m'full_name'\u001b[0m\u001b[0;34m]\u001b[0m\u001b[0;34m.\u001b[0m\u001b[0mindex\u001b[0m\u001b[0;34m[\u001b[0m\u001b[0;36m0\u001b[0m\u001b[0;34m]\u001b[0m\u001b[0;34m)\u001b[0m\u001b[0;34m\u001b[0m\u001b[0;34m\u001b[0m\u001b[0m\n\u001b[1;32m      4\u001b[0m \u001b[0mplt\u001b[0m\u001b[0;34m.\u001b[0m\u001b[0mshow\u001b[0m\u001b[0;34m(\u001b[0m\u001b[0;34m)\u001b[0m\u001b[0;34m\u001b[0m\u001b[0;34m\u001b[0m\u001b[0m\n",
      "\u001b[0;31mIndexError\u001b[0m: list index out of range"
     ]
    }
   ],
   "source": [
    "# Show the plot for one comedian\n",
    "plt.plot(polarity_transcript[0])\n",
    "plt.title(data['full_name'].index[0])\n",
    "plt.show()"
   ]
  },
  {
   "cell_type": "code",
   "execution_count": 26,
   "metadata": {},
   "outputs": [
    {
     "output_type": "error",
     "ename": "IndexError",
     "evalue": "list index out of range",
     "traceback": [
      "\u001b[0;31m---------------------------------------------------------------------------\u001b[0m",
      "\u001b[0;31mIndexError\u001b[0m                                Traceback (most recent call last)",
      "\u001b[0;32m<ipython-input-26-8309072e775c>\u001b[0m in \u001b[0;36m<module>\u001b[0;34m\u001b[0m\n\u001b[1;32m      4\u001b[0m \u001b[0;32mfor\u001b[0m \u001b[0mindex\u001b[0m\u001b[0;34m,\u001b[0m \u001b[0mcomedian\u001b[0m \u001b[0;32min\u001b[0m \u001b[0menumerate\u001b[0m\u001b[0;34m(\u001b[0m\u001b[0mdata\u001b[0m\u001b[0;34m.\u001b[0m\u001b[0mindex\u001b[0m\u001b[0;34m)\u001b[0m\u001b[0;34m:\u001b[0m\u001b[0;34m\u001b[0m\u001b[0;34m\u001b[0m\u001b[0m\n\u001b[1;32m      5\u001b[0m     \u001b[0mplt\u001b[0m\u001b[0;34m.\u001b[0m\u001b[0msubplot\u001b[0m\u001b[0;34m(\u001b[0m\u001b[0;36m3\u001b[0m\u001b[0;34m,\u001b[0m \u001b[0;36m4\u001b[0m\u001b[0;34m,\u001b[0m \u001b[0mindex\u001b[0m\u001b[0;34m+\u001b[0m\u001b[0;36m1\u001b[0m\u001b[0;34m)\u001b[0m\u001b[0;34m\u001b[0m\u001b[0;34m\u001b[0m\u001b[0m\n\u001b[0;32m----> 6\u001b[0;31m     \u001b[0mplt\u001b[0m\u001b[0;34m.\u001b[0m\u001b[0mplot\u001b[0m\u001b[0;34m(\u001b[0m\u001b[0mpolarity_transcript\u001b[0m\u001b[0;34m[\u001b[0m\u001b[0mindex\u001b[0m\u001b[0;34m]\u001b[0m\u001b[0;34m)\u001b[0m\u001b[0;34m\u001b[0m\u001b[0;34m\u001b[0m\u001b[0m\n\u001b[0m\u001b[1;32m      7\u001b[0m     \u001b[0mplt\u001b[0m\u001b[0;34m.\u001b[0m\u001b[0mplot\u001b[0m\u001b[0;34m(\u001b[0m\u001b[0mnp\u001b[0m\u001b[0;34m.\u001b[0m\u001b[0marange\u001b[0m\u001b[0;34m(\u001b[0m\u001b[0;36m0\u001b[0m\u001b[0;34m,\u001b[0m\u001b[0;36m10\u001b[0m\u001b[0;34m)\u001b[0m\u001b[0;34m,\u001b[0m \u001b[0mnp\u001b[0m\u001b[0;34m.\u001b[0m\u001b[0mzeros\u001b[0m\u001b[0;34m(\u001b[0m\u001b[0;36m10\u001b[0m\u001b[0;34m)\u001b[0m\u001b[0;34m)\u001b[0m\u001b[0;34m\u001b[0m\u001b[0;34m\u001b[0m\u001b[0m\n\u001b[1;32m      8\u001b[0m     \u001b[0mplt\u001b[0m\u001b[0;34m.\u001b[0m\u001b[0mtitle\u001b[0m\u001b[0;34m(\u001b[0m\u001b[0mdata\u001b[0m\u001b[0;34m[\u001b[0m\u001b[0;34m'full_name'\u001b[0m\u001b[0;34m]\u001b[0m\u001b[0;34m[\u001b[0m\u001b[0mindex\u001b[0m\u001b[0;34m]\u001b[0m\u001b[0;34m)\u001b[0m\u001b[0;34m\u001b[0m\u001b[0;34m\u001b[0m\u001b[0m\n",
      "\u001b[0;31mIndexError\u001b[0m: list index out of range"
     ]
    }
   ],
   "source": [
    "# Show the plot for all comedians\n",
    "plt.rcParams['figure.figsize'] = [16, 12]\n",
    "\n",
    "for index, comedian in enumerate(data.index):    \n",
    "    plt.subplot(3, 4, index+1)\n",
    "    plt.plot(polarity_transcript[index])\n",
    "    plt.plot(np.arange(0,10), np.zeros(10))\n",
    "    plt.title(data['full_name'][index])\n",
    "    plt.ylim(ymin=-.2, ymax=.3)\n",
    "    \n",
    "plt.show()"
   ]
  },
  {
   "cell_type": "markdown",
   "metadata": {
    "collapsed": true
   },
   "source": [
    "Ali Wong stays generally positive throughout her routine. Similar comedians are Louis C.K. and Mike Birbiglia.\n",
    "\n",
    "On the other hand, you have some pretty different patterns here like Bo Burnham who gets happier as time passes and Dave Chappelle who has some pretty down moments in his routine."
   ]
  },
  {
   "cell_type": "markdown",
   "metadata": {
    "collapsed": true
   },
   "source": [
    "## Additional Exercises"
   ]
  },
  {
   "cell_type": "markdown",
   "metadata": {},
   "source": [
    "1. Modify the number of sections the comedy routine is split into and see how the charts over time change."
   ]
  },
  {
   "cell_type": "code",
   "execution_count": null,
   "metadata": {
    "collapsed": true
   },
   "outputs": [],
   "source": []
  }
 ],
 "metadata": {
  "kernelspec": {
   "display_name": "Python 3",
   "language": "python",
   "name": "python3"
  },
  "language_info": {
   "codemirror_mode": {
    "name": "ipython",
    "version": 3
   },
   "file_extension": ".py",
   "mimetype": "text/x-python",
   "name": "python",
   "nbconvert_exporter": "python",
   "pygments_lexer": "ipython3",
   "version": "3.8.5-final"
  },
  "toc": {
   "nav_menu": {},
   "number_sections": true,
   "sideBar": true,
   "skip_h1_title": false,
   "toc_cell": false,
   "toc_position": {},
   "toc_section_display": "block",
   "toc_window_display": false
  },
  "varInspector": {
   "cols": {
    "lenName": 16,
    "lenType": 16,
    "lenVar": 40
   },
   "kernels_config": {
    "python": {
     "delete_cmd_postfix": "",
     "delete_cmd_prefix": "del ",
     "library": "var_list.py",
     "varRefreshCmd": "print(var_dic_list())"
    },
    "r": {
     "delete_cmd_postfix": ") ",
     "delete_cmd_prefix": "rm(",
     "library": "var_list.r",
     "varRefreshCmd": "cat(var_dic_list()) "
    }
   },
   "types_to_exclude": [
    "module",
    "function",
    "builtin_function_or_method",
    "instance",
    "_Feature"
   ],
   "window_display": false
  }
 },
 "nbformat": 4,
 "nbformat_minor": 2
}